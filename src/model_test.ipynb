{
 "cells": [
  {
   "cell_type": "markdown",
   "metadata": {},
   "source": [
    "# Unsupervised Learning of Autoencoder"
   ]
  },
  {
   "cell_type": "markdown",
   "metadata": {},
   "source": [
    "## Data set: MNIST"
   ]
  },
  {
   "cell_type": "code",
   "execution_count": 1,
   "metadata": {},
   "outputs": [
    {
     "ename": "OSError",
     "evalue": "[WinError 182] The operating system cannot run %1. Error loading \"c:\\Users\\Joven\\miniconda3\\envs\\ml\\lib\\site-packages\\torch\\lib\\fbgemm.dll\" or one of its dependencies.",
     "output_type": "error",
     "traceback": [
      "\u001b[1;31m---------------------------------------------------------------------------\u001b[0m",
      "\u001b[1;31mOSError\u001b[0m                                   Traceback (most recent call last)",
      "\u001b[1;32mc:\\Users\\Joven\\Documents\\workspace\\python\\final_project\\src\\model_test.ipynb Cell 3\u001b[0m line \u001b[0;36m3\n\u001b[0;32m      <a href='vscode-notebook-cell:/c%3A/Users/Joven/Documents/workspace/python/final_project/src/model_test.ipynb#W2sZmlsZQ%3D%3D?line=0'>1</a>\u001b[0m \u001b[39mfrom\u001b[39;00m \u001b[39mtensorflow\u001b[39;00m\u001b[39m.\u001b[39;00m\u001b[39mkeras\u001b[39;00m\u001b[39m.\u001b[39;00m\u001b[39mdatasets\u001b[39;00m \u001b[39mimport\u001b[39;00m mnist\n\u001b[0;32m      <a href='vscode-notebook-cell:/c%3A/Users/Joven/Documents/workspace/python/final_project/src/model_test.ipynb#W2sZmlsZQ%3D%3D?line=1'>2</a>\u001b[0m \u001b[39mfrom\u001b[39;00m \u001b[39mtensorflow\u001b[39;00m\u001b[39m.\u001b[39;00m\u001b[39mkeras\u001b[39;00m\u001b[39m.\u001b[39;00m\u001b[39mutils\u001b[39;00m \u001b[39mimport\u001b[39;00m normalize\n\u001b[1;32m----> <a href='vscode-notebook-cell:/c%3A/Users/Joven/Documents/workspace/python/final_project/src/model_test.ipynb#W2sZmlsZQ%3D%3D?line=2'>3</a>\u001b[0m \u001b[39mimport\u001b[39;00m \u001b[39mtorch\u001b[39;00m\n\u001b[0;32m      <a href='vscode-notebook-cell:/c%3A/Users/Joven/Documents/workspace/python/final_project/src/model_test.ipynb#W2sZmlsZQ%3D%3D?line=4'>5</a>\u001b[0m (x_train, y_train), (x_test, y_test) \u001b[39m=\u001b[39m mnist\u001b[39m.\u001b[39mload_data()\n\u001b[0;32m      <a href='vscode-notebook-cell:/c%3A/Users/Joven/Documents/workspace/python/final_project/src/model_test.ipynb#W2sZmlsZQ%3D%3D?line=6'>7</a>\u001b[0m \u001b[39m# Normalization\u001b[39;00m\n",
      "File \u001b[1;32mc:\\Users\\Joven\\miniconda3\\envs\\ml\\lib\\site-packages\\torch\\__init__.py:128\u001b[0m\n\u001b[0;32m    126\u001b[0m     err \u001b[39m=\u001b[39m ctypes\u001b[39m.\u001b[39mWinError(last_error)\n\u001b[0;32m    127\u001b[0m     err\u001b[39m.\u001b[39mstrerror \u001b[39m+\u001b[39m\u001b[39m=\u001b[39m \u001b[39mf\u001b[39m\u001b[39m'\u001b[39m\u001b[39m Error loading \u001b[39m\u001b[39m\"\u001b[39m\u001b[39m{\u001b[39;00mdll\u001b[39m}\u001b[39;00m\u001b[39m\"\u001b[39m\u001b[39m or one of its dependencies.\u001b[39m\u001b[39m'\u001b[39m\n\u001b[1;32m--> 128\u001b[0m     \u001b[39mraise\u001b[39;00m err\n\u001b[0;32m    129\u001b[0m \u001b[39melif\u001b[39;00m res \u001b[39mis\u001b[39;00m \u001b[39mnot\u001b[39;00m \u001b[39mNone\u001b[39;00m:\n\u001b[0;32m    130\u001b[0m     is_loaded \u001b[39m=\u001b[39m \u001b[39mTrue\u001b[39;00m\n",
      "\u001b[1;31mOSError\u001b[0m: [WinError 182] The operating system cannot run %1. Error loading \"c:\\Users\\Joven\\miniconda3\\envs\\ml\\lib\\site-packages\\torch\\lib\\fbgemm.dll\" or one of its dependencies."
     ]
    }
   ],
   "source": [
    "from tensorflow.keras.datasets import mnist\n",
    "from tensorflow.keras.utils import normalize\n",
    "import torch\n",
    "\n",
    "(x_train, y_train), (x_test, y_test) = mnist.load_data()\n",
    "\n",
    "# Normalization\n",
    "x_train = normalize(x_train, axis=1)\n",
    "x_test = normalize(x_test, axis=1)\n",
    "\n",
    "# summarize loaded dataset\n",
    "print('Train: X=%s, y=%s' % (x_train.shape, y_train.shape))\n",
    "print('Test: X=%s, y=%s' % (x_test.shape, y_test.shape))\n",
    "\n",
    "# Reshape the data\n",
    "x_trainr = x_train.reshape(-1, 1, 28, 28)\n",
    "x_testr = x_test.reshape(-1, 1, 28, 28)\n",
    "x_trainr = torch.from_numpy(x_trainr).float()\n",
    "x_testr = torch.from_numpy(x_testr).float()\n",
    "\n",
    "print(\"Training Samples dimension\", x_trainr.shape)\n",
    "print(\"Testing Samples dimension\", x_testr.shape)"
   ]
  },
  {
   "cell_type": "markdown",
   "metadata": {},
   "source": [
    "Example of the data sets"
   ]
  },
  {
   "cell_type": "code",
   "execution_count": null,
   "metadata": {},
   "outputs": [],
   "source": [
    "from matplotlib import pyplot as plt\n",
    "\n",
    "# Example of a picture\n",
    "for i in range(9):\n",
    "    ax = plt.subplot(330 + 1 + i)\n",
    "    plt.imshow(x_train[i], cmap=plt.get_cmap('gray'))\n",
    "    ax.get_xaxis().set_visible(False)\n",
    "    ax.get_yaxis().set_visible(False)\n",
    "plt.show()"
   ]
  },
  {
   "cell_type": "markdown",
   "metadata": {},
   "source": [
    "## Autoencoder: Convoluted Neural Network"
   ]
  },
  {
   "cell_type": "markdown",
   "metadata": {},
   "source": [
    "Load and preprocess the data set"
   ]
  },
  {
   "cell_type": "code",
   "execution_count": null,
   "metadata": {},
   "outputs": [],
   "source": [
    "from model import Model\n",
    "\n",
    "train = False  # Need to change to True if you want to train the model\n",
    "\n",
    "type = 'small'  # Need to change to 'small', 'medium', or 'big' to train the model\n",
    "\n",
    "if type == 'small':\n",
    "    epochs = 10\n",
    "elif type == 'medium':\n",
    "    epochs = 100\n",
    "elif type == 'big':\n",
    "    epochs = 1000\n",
    "else:\n",
    "    epochs = 10\n",
    "\n",
    "if train == True:\n",
    "    # Train the model\n",
    "    model = Model()\n",
    "    model.train(x_trainr, batch_size=128, epochs=epochs)\n",
    "    model.save('model_' + type + '.h5')\n",
    "else:\n",
    "    # Load the model\n",
    "    model = Model()\n",
    "    model.load('model_' + type + '.h5')\n",
    "\n",
    "# Extract the features\n",
    "x_test_encoded = model.extract_features(x_testr)\n",
    "x_test_encoded = x_test_encoded.detach().numpy()"
   ]
  },
  {
   "cell_type": "markdown",
   "metadata": {},
   "source": [
    "Model visualization"
   ]
  },
  {
   "cell_type": "code",
   "execution_count": null,
   "metadata": {},
   "outputs": [],
   "source": [
    "model.summary()"
   ]
  },
  {
   "cell_type": "markdown",
   "metadata": {},
   "source": [
    "Example of the decoded images"
   ]
  },
  {
   "cell_type": "code",
   "execution_count": null,
   "metadata": {},
   "outputs": [],
   "source": [
    "n = 5\n",
    "plt.figure(figsize=(20, 4))\n",
    "\n",
    "\n",
    "decoded = model.forward(x_testr)\n",
    "\n",
    "decoded = decoded.detach().numpy()\n",
    "\n",
    "for i in range(n):\n",
    "    # define subplot\n",
    "    ax = plt.subplot(2, n , 1 + i)\n",
    "    plt.imshow(x_test[i].reshape(28, 28), cmap=plt.get_cmap('gray'))\n",
    "    ax.get_xaxis().set_visible(False)\n",
    "    ax.get_yaxis().set_visible(False)\n",
    "    ax.set_title('Real Data')\n",
    "    \n",
    "    ax = plt.subplot(2, n, 1 + i + n)\n",
    "    plt.imshow(decoded[i].reshape(28, 28), cmap=plt.get_cmap('gray'))\n",
    "    ax.get_xaxis().set_visible(False)\n",
    "    ax.get_yaxis().set_visible(False)\n",
    "    ax.set_title('Decoded Data')\n",
    "\n",
    "plt.show()"
   ]
  },
  {
   "cell_type": "markdown",
   "metadata": {},
   "source": [
    "## Clustering: K-means and PCA"
   ]
  },
  {
   "cell_type": "code",
   "execution_count": 4,
   "metadata": {},
   "outputs": [
    {
     "ename": "NameError",
     "evalue": "name 'x_test_encoded' is not defined",
     "output_type": "error",
     "traceback": [
      "\u001b[1;31m---------------------------------------------------------------------------\u001b[0m",
      "\u001b[1;31mNameError\u001b[0m                                 Traceback (most recent call last)",
      "\u001b[1;32mc:\\Users\\Joven\\Documents\\workspace\\python\\number_classifier\\src\\number_classifier.ipynb Cell 14\u001b[0m line \u001b[0;36m6\n\u001b[0;32m      <a href='vscode-notebook-cell:/c%3A/Users/Joven/Documents/workspace/python/number_classifier/src/number_classifier.ipynb#X10sZmlsZQ%3D%3D?line=3'>4</a>\u001b[0m \u001b[39m# Fit KMeans model\u001b[39;00m\n\u001b[0;32m      <a href='vscode-notebook-cell:/c%3A/Users/Joven/Documents/workspace/python/number_classifier/src/number_classifier.ipynb#X10sZmlsZQ%3D%3D?line=4'>5</a>\u001b[0m kmeans \u001b[39m=\u001b[39m KMeans(n_clusters\u001b[39m=\u001b[39mn_clusters)\n\u001b[1;32m----> <a href='vscode-notebook-cell:/c%3A/Users/Joven/Documents/workspace/python/number_classifier/src/number_classifier.ipynb#X10sZmlsZQ%3D%3D?line=5'>6</a>\u001b[0m kmeans\u001b[39m.\u001b[39mfit(x_test_encoded)\n\u001b[0;32m      <a href='vscode-notebook-cell:/c%3A/Users/Joven/Documents/workspace/python/number_classifier/src/number_classifier.ipynb#X10sZmlsZQ%3D%3D?line=6'>7</a>\u001b[0m kmeans\u001b[39m.\u001b[39mvisualize()\n",
      "\u001b[1;31mNameError\u001b[0m: name 'x_test_encoded' is not defined"
     ]
    }
   ],
   "source": [
    "from kmeans import KMeans\n",
    "from sklearn.metrics.cluster import pair_confusion_matrix\n",
    "\n",
    "\n",
    "def rand_index_score(labels_true, labels_pred):\n",
    "    (tn, fp), (fn, tp) = pair_confusion_matrix(labels_true, labels_pred)\n",
    "    tn, fp, fn, tp = int(tn), int(fp), int(fn), int(tp)\n",
    "    if fn == 0 and fp == 0:\n",
    "        return 1.0\n",
    "    return 2.0 * (tp * tn - fn * fp) / ((tp + fn) * (fn + tn) + (tp + fp) * (fp + tn))\n",
    "\n",
    "\n",
    "# Fit KMeans model\n",
    "kmeans = KMeans(n_clusters=10)\n",
    "kmeans.fit(x_test_encoded)\n",
    "labels = kmeans.predict(x_test_encoded)\n",
    "\n",
    "# Evaluate the model\n",
    "ari = rand_index_score(labels, y_test)\n",
    "print(f'Adjusted Rand Index: {ari:.2f}')\n"
   ]
  },
  {
   "cell_type": "markdown",
   "metadata": {},
   "source": [
    "Reduce the vector dimension and visualize it"
   ]
  },
  {
   "cell_type": "code",
   "execution_count": null,
   "metadata": {},
   "outputs": [],
   "source": [
    "from pca import PCA\n",
    "\n",
    "# Reduceed the dimensionality of the data using PCA\n",
    "pca = PCA(n_components=2)\n",
    "x_pca = pca.fit_transform(x_test_encoded)\n",
    "\n",
    "# Plot the clustered data in 2D\n",
    "plt.scatter(x_pca[:, 0], x_pca[:, 1],\n",
    "            c=labels, cmap='viridis', alpha=0.7)\n",
    "plt.title('K-means Clustering (k = 10) with PCA Visualization')\n",
    "plt.xlabel('PCA 1')\n",
    "plt.ylabel('PCA 2')\n",
    "plt.colorbar()\n",
    "plt.show()"
   ]
  }
 ],
 "metadata": {
  "kernelspec": {
   "display_name": "Python 3 (ipykernel)",
   "language": "python",
   "name": "python3"
  },
  "language_info": {
   "codemirror_mode": {
    "name": "ipython",
    "version": 3
   },
   "file_extension": ".py",
   "mimetype": "text/x-python",
   "name": "python",
   "nbconvert_exporter": "python",
   "pygments_lexer": "ipython3",
   "version": "3.10.13"
  }
 },
 "nbformat": 4,
 "nbformat_minor": 2
}
